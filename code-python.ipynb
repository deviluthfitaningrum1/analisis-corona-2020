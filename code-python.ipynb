{
 "cells": [
  {
   "cell_type": "code",
   "execution_count": null,
   "metadata": {},
   "outputs": [],
   "source": []
  },
  {
   "cell_type": "code",
   "execution_count": null,
   "metadata": {},
   "outputs": [],
   "source": [
    "import matplotlib.pyplot as plt\n",
    "import numpy as np\n",
    "import pandas as pd"
   ]
  },
  {
   "cell_type": "code",
   "execution_count": null,
   "metadata": {},
   "outputs": [],
   "source": [
    "date=[]\n",
    "for feb in range (15, 29+1) :\n",
    "    date.append(str(feb)+ \" Feb\")\n",
    "for mar in range (1, 26+1) :\n",
    "    date.append(str(mar)+ \" Mar\")\n",
    "print(str(len(date)))"
   ]
  },
  {
   "cell_type": "code",
   "execution_count": null,
   "metadata": {},
   "outputs": [],
   "source": [
    "day = []\n",
    "for i in range(0, len(date)) :\n",
    "    day.append(i)\n",
    "print(str(len(day)))"
   ]
  },
  {
   "cell_type": "code",
   "execution_count": null,
   "metadata": {},
   "outputs": [],
   "source": [
    "x = np.array((1,2,3,4,5,6,7,8,9,10,11, 12, 13, 14, 15, 16, 17, 18, 19, 20, 21, 22, 23, 24, 25, 26, 27, 28, 29, 30, 31, 32, 33, 34, 35, 36, 37, 38, 39, 40, 41))\n",
    "\n",
    "#input data active cases atau total death\n",
    "y = np.array((12,12,12,12,12,10,29,29,28,48,51,54,54,57,60,65,85,106,138,200,289,401,504,663,949,1248,1581,2126,2664,3484,4434,6127,8940,13464,18965,23720,33000,42930,53697,66790,82272))\n",
    "print(str(len(y)))"
   ]
  },
  {
   "cell_type": "code",
   "execution_count": null,
   "metadata": {},
   "outputs": [],
   "source": [
    "tabel = pd.DataFrame({\n",
    "    'Day' : day,\n",
    "    'Date' : date,\n",
    "    'Active Cases/Total Death' : y,\n",
    "})\n",
    "tabel"
   ]
  },
  {
   "cell_type": "code",
   "execution_count": null,
   "metadata": {},
   "outputs": [],
   "source": [
    "ax = plt.plot(x,y,'o')\n",
    "plt.grid()\n",
    "plt.title(\"Plot Data Active Cases/Total Death (Nama negara)\")"
   ]
  },
  {
   "cell_type": "markdown",
   "metadata": {},
   "source": [
    "#Regresi Eksponensial"
   ]
  },
  {
   "cell_type": "code",
   "execution_count": null,
   "metadata": {},
   "outputs": [],
   "source": [
    "l=np.log(y)\n",
    "m=x"
   ]
  },
  {
   "cell_type": "code",
   "execution_count": null,
   "metadata": {},
   "outputs": [],
   "source": [
    "n=len(y)\n",
    "ml = l*m\n",
    "mm = m**2"
   ]
  },
  {
   "cell_type": "code",
   "execution_count": null,
   "metadata": {},
   "outputs": [],
   "source": [
    "B=(n*ml.sum()-m.sum()*l.sum())/((n*mm.sum())-(m.sum())**2)\n",
    "A=(l.mean()-B*m.mean())"
   ]
  },
  {
   "cell_type": "code",
   "execution_count": null,
   "metadata": {},
   "outputs": [],
   "source": [
    "a = np.e**A \n",
    "b = B"
   ]
  },
  {
   "cell_type": "code",
   "execution_count": null,
   "metadata": {},
   "outputs": [],
   "source": [
    "print(\"Persamaan regresi eksponensial adalah y = {:.4f}e^({:.4f}x)\".format(a,b))"
   ]
  },
  {
   "cell_type": "code",
   "execution_count": null,
   "metadata": {},
   "outputs": [],
   "source": [
    "yDt = (l-l.mean())**2\n",
    "yD = (l-A-B*m)**2"
   ]
  },
  {
   "cell_type": "code",
   "execution_count": null,
   "metadata": {},
   "outputs": [],
   "source": [
    "Dt = yDt.sum()\n",
    "D = yD.sum()"
   ]
  },
  {
   "cell_type": "code",
   "execution_count": null,
   "metadata": {},
   "outputs": [],
   "source": [
    "r = np.sqrt((Dt-D)/Dt)\n",
    "\n",
    "print(\"Nilai koefisien korelasinya adalah {:.4f}\".format(r))"
   ]
  },
  {
   "cell_type": "code",
   "execution_count": null,
   "metadata": {},
   "outputs": [],
   "source": [
    "yreg=a*(np.e**(b*x))\n",
    "ax = plt.plot (x,y,'o')\n",
    "plt.plot(x,yreg,'r')\n",
    "plt.grid()\n",
    "plt.title(\"Kurva regresi eksponensial pertumbuhan Active Cases/Total Death (Nama negara)\")\n",
    "print(\"Persamaan regresi adalah {:.4f}e^({:.4f}x)\".format(a,b))\n",
    "print(\"Nilai koefisien korelasinya adalah {:.4f}\".format(r))"
   ]
  },
  {
   "cell_type": "markdown",
   "metadata": {},
   "source": [
    "#Regresi Kuadrat"
   ]
  },
  {
   "cell_type": "code",
   "execution_count": null,
   "metadata": {},
   "outputs": [],
   "source": [
    "m=np.log10(x)\n",
    "l=np.log10(y)\n",
    "n=len(x)\n",
    "ml = m*l\n",
    "mm = m**2\n",
    "B=(n*ml.sum()-m.sum()*l.sum())/((n*mm.sum())-(m.sum())**2)\n",
    "A=(l.mean()-B*m.mean())\n",
    "b=B\n",
    "a=10**A\n",
    "\n",
    "print(\"Persamaan regresi kuadrat adalah {:.4f}x^{:.4f}\".format(a,b))\n"
   ]
  },
  {
   "cell_type": "code",
   "execution_count": null,
   "metadata": {},
   "outputs": [],
   "source": [
    "yDt = (l-l.mean())**2\n",
    "yD = (l-A-B*m)**2\n",
    "Dt = yDt.sum()\n",
    "D = yD.sum()\n",
    "r = np.sqrt((Dt-D)/Dt)\n",
    "print(\"Nilai koefisien korelasinya adalah {:.4f}\".format(r))\n"
   ]
  },
  {
   "cell_type": "code",
   "execution_count": null,
   "metadata": {},
   "outputs": [],
   "source": [
    "ax = plt.plot(x,y,'o')\n",
    "yreg = a*x**b\n",
    "plt.plot(x,yreg,'r')\n",
    "plt.grid()\n",
    "print(\"Persamaan regresi adalah {:.4f}x^{:.4f}\".format(a,b))\n",
    "print(\"Nilai koefisien korelasinya adalah {:.4f}\".format(r))\n",
    "plt.title(\"Kurva regresi kuadrat Active Cases/Total Death (Nama negara)\")"
   ]
  },
  {
   "cell_type": "markdown",
   "metadata": {},
   "source": [
    "#Regresi Polinomial"
   ]
  },
  {
   "cell_type": "code",
   "execution_count": null,
   "metadata": {},
   "outputs": [],
   "source": [
    "from numpy import *\n",
    "from scipy.interpolate import *\n",
    "p3 = polyfit(x,y,3)\n",
    "p4 = polyfit(x,y,4)\n",
    "p5 = polyfit(x,y,5)\n",
    "p6 = polyfit(x,y,6)\n",
    "p7 = polyfit(x,y,7)\n",
    "p8 = polyfit(x,y,8)\n",
    "p9 = polyfit(x,y,9)\n"
   ]
  },
  {
   "cell_type": "code",
   "execution_count": null,
   "metadata": {},
   "outputs": [],
   "source": [
    "from matplotlib.pyplot import *\n",
    "%matplotlib inline\n",
    "yfit3 = p3[0]*(x**3) + p3[1]*(x**2)+ p3[2]*x+p3[3]\n",
    "yfit4 = p4[0]*(x**4) + p4[1]*(x**3)+ p4[2]*x**2+p4[3]*x+p4[4]\n",
    "yfit5 = p5[0]*(x**5) + p5[1]*(x**4)+ p5[2]*x**3+p5[3]*x**2+p5[4]*x+p5[5]\n",
    "yfit6 = p6[0]*(x**6) + p6[1]*(x**5)+ p6[2]*x**4+p6[3]*x**3+p6[4]*x**2+p6[5]*x+p6[6]\n",
    "yfit7 = p7[0]*(x**7) + p7[1]*(x**6)+ p7[2]*x**5+p7[3]*x**4+p7[4]*x**3+p7[5]*x**2+p7[6]*x+p7[7]\n",
    "yfit8 = p8[0]*(x**8) + p8[1]*(x**7)+ p8[2]*x**6+p8[3]*x**5+p8[4]*x**4+p8[5]*x**3+p8[6]*x**2+p8[7]*x+p8[8]\n",
    "yfit9 = p9[0]*(x**9) + p9[1]*(x**8)+ p9[2]*x**7+p9[3]*x**6+p9[4]*x**5+p9[5]*x**4+p9[6]*x**3+p9[7]*x**2+p9[8]*x+p9[9]\n"
   ]
  },
  {
   "cell_type": "code",
   "execution_count": null,
   "metadata": {},
   "outputs": [],
   "source": [
    "SStotal= len(y)*var(y)\n",
    "\n",
    "yresid3=y-yfit3\n",
    "SSresid3= sum(pow(yresid3,2))\n",
    "rr3=1-SSresid3/SStotal\n",
    "r3=np.sqrt(abs(rr3))\n",
    "print(\"Koefisien korelasi orde 3 = {:.4f}\".format(r3))\n",
    "\n",
    "yresid4=y-yfit4\n",
    "SSresid4= sum(pow(yresid4,2))\n",
    "rr4=1-SSresid4/SStotal\n",
    "r4=np.sqrt(abs(rr4))\n",
    "print(\"Koefisien korelasi orde 4 = {:.4f}\".format(r4))\n",
    "\n",
    "yresid5=y-yfit5\n",
    "SSresid5= sum(pow(yresid5,2))\n",
    "rr5=1-SSresid5/SStotal\n",
    "r5=np.sqrt(abs(rr5))\n",
    "print(\"Koefisien korelasi orde 5 = {:.4f}\".format(r5))\n",
    "\n",
    "yresid6=y-yfit6\n",
    "SSresid6= sum(pow(yresid6,2))\n",
    "rr6=1-SSresid6/SStotal\n",
    "r6=np.sqrt(abs(rr6))\n",
    "print(\"Koefisien korelasi orde 6 = {:.4f}\".format(r6))\n",
    "\n",
    "yresid7=y-yfit7\n",
    "SSresid7= sum(pow(yresid7,2))\n",
    "rr7=1-SSresid7/SStotal\n",
    "r7=np.sqrt(abs(rr7))\n",
    "print(\"Koefisien korelasi orde 7 = {:.4f}\".format(r7))\n",
    "\n",
    "yresid8=y-yfit8\n",
    "SSresid8= sum(pow(yresid8,2))\n",
    "rr8=1-SSresid8/SStotal\n",
    "r8=np.sqrt(abs(rr8))\n",
    "print(\"Koefisien korelasi orde 8 = {:.4f}\".format(r8))\n",
    "\n",
    "yresid9=y-yfit9\n",
    "SSresid9= sum(pow(yresid9,2))\n",
    "rr9=1-SSresid9/SStotal\n",
    "r9=np.sqrt(abs(rr9))\n",
    "print(\"Koefisien korelasi orde 9 = {:.4f}\".format(r9))\n",
    "\n",
    "#print(\"Regresi Polinomial orde 5 dipilih karena memiliki koefisien korelasi paling mendekati 1\")\n"
   ]
  },
  {
   "cell_type": "code",
   "execution_count": null,
   "metadata": {},
   "outputs": [],
   "source": [
    "ax = plt.plot(x,y,'o')\n",
    "plot(x,polyval(p5,x), 'r-')\n",
    "plt.grid()\n",
    "plt.title(\"Kurva regresi polinomial pertumbuhan Active Cases/Total Death (Nama negara)\")\n",
    "print(\"Persamaan polinomial orde 5 adalah y = {:.4f}x^5 + {:.4f}x^4 + {:.4f}x^3 + {:.4f}x^2 + {:.4f}x + {:.4f}\".format(p5[0],p5[1],p5[2],p5[3],p5[4],p5[5]))\n",
    "print(\"Koefisien korelasinya adalah {:.4f}\" .format(r5))"
   ]
  }
 ],
 "metadata": {
  "language_info": {
   "name": "python"
  },
  "orig_nbformat": 4
 },
 "nbformat": 4,
 "nbformat_minor": 2
}
